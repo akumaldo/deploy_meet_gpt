{
 "cells": [
  {
   "cell_type": "code",
   "execution_count": 1,
   "id": "15113a86",
   "metadata": {},
   "outputs": [],
   "source": [
    "import openai\n",
    "from dotenv import load_dotenv, find_dotenv\n",
    "_ = load_dotenv(find_dotenv())\n",
    "\n",
    "client = openai.OpenAI()"
   ]
  },
  {
   "cell_type": "code",
   "execution_count": null,
   "metadata": {},
   "outputs": [],
   "source": [
    "def chat_openai(\n",
    "        mensagens,\n",
    "        modelo='gpt-3.5-turbo-1106',\n",
    "        temperatura=0,\n",
    "        stream=False\n",
    "    ):\n",
    "    reposta = client.chat.completions.create(\n",
    "        model=modelo,\n",
    "        messages=mensagens,\n",
    "        temperature=temperatura,\n",
    "        stream=stream,\n",
    "        )\n",
    "    return reposta\n"
   ]
  },
  {
   "cell_type": "code",
   "execution_count": 3,
   "metadata": {},
   "outputs": [],
   "source": [
    "mensagens = [{'role': 'user', 'content': 'O que é uma maçã em até 5 palavras?'}]\n",
    "resposta = chat_openai(mensagens)"
   ]
  },
  {
   "cell_type": "code",
   "execution_count": 8,
   "metadata": {},
   "outputs": [
    {
     "data": {
      "text/plain": [
       "'Fruta redonda e suculenta.'"
      ]
     },
     "execution_count": 8,
     "metadata": {},
     "output_type": "execute_result"
    }
   ],
   "source": [
    "resposta.choices[0].message.content"
   ]
  },
  {
   "cell_type": "code",
   "execution_count": 9,
   "metadata": {},
   "outputs": [
    {
     "data": {
      "text/plain": [
       "[{'role': 'user', 'content': 'O que é uma maçã em até 5 palavras?'},\n",
       " {'role': 'assistant', 'content': 'Fruta redonda e suculenta.'}]"
      ]
     },
     "execution_count": 9,
     "metadata": {},
     "output_type": "execute_result"
    }
   ],
   "source": [
    "mensagens.append({'role': 'assistant', 'content': resposta.choices[0].message.content})\n",
    "mensagens"
   ]
  },
  {
   "cell_type": "code",
   "execution_count": 13,
   "metadata": {},
   "outputs": [
    {
     "data": {
      "text/plain": [
       "[{'role': 'user', 'content': 'O que é uma maçã em até 5 palavras?'},\n",
       " {'role': 'assistant', 'content': 'Fruta redonda e suculenta.'},\n",
       " {'role': 'user', 'content': 'E qual a sua cor?'}]"
      ]
     },
     "execution_count": 13,
     "metadata": {},
     "output_type": "execute_result"
    }
   ],
   "source": [
    "mensagens.append({'role': 'user', 'content': 'E qual a sua cor?'})\n",
    "mensagens"
   ]
  },
  {
   "cell_type": "code",
   "execution_count": 14,
   "metadata": {},
   "outputs": [
    {
     "data": {
      "text/plain": [
       "ChatCompletion(id='chatcmpl-8Nj7AoEHVSgxxrGhyAxXOWuS1579Y', choices=[Choice(finish_reason='stop', index=0, message=ChatCompletionMessage(content='Geralmente vermelha ou verde.', role='assistant', function_call=None, tool_calls=None))], created=1700665656, model='gpt-3.5-turbo-1106', object='chat.completion', system_fingerprint='fp_eeff13170a', usage=CompletionUsage(completion_tokens=9, prompt_tokens=44, total_tokens=53))"
      ]
     },
     "execution_count": 14,
     "metadata": {},
     "output_type": "execute_result"
    }
   ],
   "source": [
    "resposta = chat_openai(mensagens)\n",
    "resposta"
   ]
  },
  {
   "cell_type": "code",
   "execution_count": 15,
   "metadata": {},
   "outputs": [
    {
     "data": {
      "text/plain": [
       "'Geralmente vermelha ou verde.'"
      ]
     },
     "execution_count": 15,
     "metadata": {},
     "output_type": "execute_result"
    }
   ],
   "source": [
    "resposta.choices[0].message.content"
   ]
  },
  {
   "cell_type": "code",
   "execution_count": 18,
   "metadata": {},
   "outputs": [
    {
     "name": "stdout",
     "output_type": "stream",
     "text": [
      "\n",
      "Fr\n",
      "uta\n",
      " red\n",
      "onda\n",
      " e\n",
      " su\n",
      "cul\n",
      "enta\n",
      ".\n",
      "None\n"
     ]
    }
   ],
   "source": [
    "mensagens = [{'role': 'user', 'content': 'O que é uma maçã em até 5 palavras?'}]\n",
    "respostas = chat_openai(mensagens, stream=True)\n",
    "for resposta in respostas:\n",
    "    print(resposta.choices[0].delta.content)"
   ]
  },
  {
   "cell_type": "code",
   "execution_count": null,
   "metadata": {},
   "outputs": [],
   "source": []
  }
 ],
 "metadata": {
  "kernelspec": {
   "display_name": "Python 3 (ipykernel)",
   "language": "python",
   "name": "python3"
  },
  "language_info": {
   "codemirror_mode": {
    "name": "ipython",
    "version": 3
   },
   "file_extension": ".py",
   "mimetype": "text/x-python",
   "name": "python",
   "nbconvert_exporter": "python",
   "pygments_lexer": "ipython3",
   "version": "3.11.4"
  }
 },
 "nbformat": 4,
 "nbformat_minor": 5
}
